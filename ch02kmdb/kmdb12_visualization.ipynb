{
 "cells": [
  {
   "cell_type": "markdown",
   "id": "3ec2b1cb-77fa-4511-8f23-2f61ec45dea1",
   "metadata": {},
   "source": [
    "#### 현재 파일명: ch02kmdb/kmdb12_visualization.ipynb"
   ]
  },
  {
   "cell_type": "code",
   "execution_count": 73,
   "id": "67dbb53e-6b4d-4bc5-b556-eebd2bfcb624",
   "metadata": {},
   "outputs": [],
   "source": [
    "import pandas as pd\n",
    "folder_path = './../data/'"
   ]
  },
  {
   "cell_type": "markdown",
   "id": "c99daeb8-e84f-4656-86f0-107ea4920137",
   "metadata": {},
   "source": [
    "#### 크롤링해서 추출한 csv 형식의 파일을 가져와서 dataframe 정의"
   ]
  },
  {
   "cell_type": "code",
   "execution_count": 74,
   "id": "b0d80d53-844f-4bc5-8200-f206173a3454",
   "metadata": {},
   "outputs": [
    {
     "name": "stdout",
     "output_type": "stream",
     "text": [
      "<class 'pandas.core.frame.DataFrame'>\n"
     ]
    }
   ],
   "source": [
    "kmdb_df = pd.read_csv(folder_path + 'kmdb_get_movie_list_20231103.csv')\n",
    "print(type(kmdb))"
   ]
  },
  {
   "cell_type": "markdown",
   "id": "54bc766e-ee8c-4275-9e99-9a3f866d406e",
   "metadata": {},
   "source": [
    "#### 컬럼명 바꾸기"
   ]
  },
  {
   "cell_type": "code",
   "execution_count": 75,
   "id": "e519af5a-b7d1-407d-ad5e-4ab9c95b835e",
   "metadata": {},
   "outputs": [
    {
     "name": "stdout",
     "output_type": "stream",
     "text": [
      "Index(['영화코드', '영화명국문', '영화명(영문)', '제작연도', '개봉일', '영화유형', '제작상태', '제작국가(전체)',\n",
      "       '영화장르(전체)', '대표 제작 국가', '대표 장르'],\n",
      "      dtype='object')\n"
     ]
    }
   ],
   "source": [
    "column_dict = {\n",
    "    'movieCd':'영화코드', 'movieNm':'영화명국문', 'movieNmEn':'영화명(영문)', \n",
    "   'prdtYear':'제작연도', 'openDt':'개봉일', 'typeNm':'영화유형', \n",
    "   'prdtStatNm':'제작상태', 'nationAlt':'제작국가(전체)', 'genreAlt':'영화장르(전체)', \n",
    "   'repNationNm':'대표 제작 국가', 'repGenreNm':'대표 장르'\n",
    "}\n",
    "kmdb_df = kmdb_df.rename(columns=column_dict)\n",
    "print(kmdb_df.columns)  "
   ]
  },
  {
   "cell_type": "markdown",
   "id": "f852ad7d-af32-4969-a137-e5332532db88",
   "metadata": {},
   "source": [
    "#### 개봉일을 기준으로 개봉년도와 개봉년월 파생컬럼 생성"
   ]
  },
  {
   "cell_type": "code",
   "execution_count": 76,
   "id": "b1d1af69-4084-446f-ba11-f6c9e3ccb8f3",
   "metadata": {},
   "outputs": [
    {
     "data": {
      "text/html": [
       "<div>\n",
       "<style scoped>\n",
       "    .dataframe tbody tr th:only-of-type {\n",
       "        vertical-align: middle;\n",
       "    }\n",
       "\n",
       "    .dataframe tbody tr th {\n",
       "        vertical-align: top;\n",
       "    }\n",
       "\n",
       "    .dataframe thead th {\n",
       "        text-align: right;\n",
       "    }\n",
       "</style>\n",
       "<table border=\"1\" class=\"dataframe\">\n",
       "  <thead>\n",
       "    <tr style=\"text-align: right;\">\n",
       "      <th></th>\n",
       "      <th>영화코드</th>\n",
       "      <th>영화명국문</th>\n",
       "      <th>영화명(영문)</th>\n",
       "      <th>제작연도</th>\n",
       "      <th>개봉일</th>\n",
       "      <th>영화유형</th>\n",
       "      <th>제작상태</th>\n",
       "      <th>제작국가(전체)</th>\n",
       "      <th>영화장르(전체)</th>\n",
       "      <th>대표 제작 국가</th>\n",
       "      <th>대표 장르</th>\n",
       "      <th>개봉년도</th>\n",
       "      <th>개봉년월</th>\n",
       "    </tr>\n",
       "  </thead>\n",
       "  <tbody>\n",
       "    <tr>\n",
       "      <th>0</th>\n",
       "      <td>20230966</td>\n",
       "      <td>사채소년</td>\n",
       "      <td>NaN</td>\n",
       "      <td>2023.0</td>\n",
       "      <td>NaN</td>\n",
       "      <td>장편</td>\n",
       "      <td>개봉예정</td>\n",
       "      <td>한국</td>\n",
       "      <td>액션</td>\n",
       "      <td>한국</td>\n",
       "      <td>액션</td>\n",
       "      <td>nan</td>\n",
       "      <td>nan</td>\n",
       "    </tr>\n",
       "    <tr>\n",
       "      <th>1</th>\n",
       "      <td>19820019</td>\n",
       "      <td>만추 리마스터링</td>\n",
       "      <td>Late Autumn</td>\n",
       "      <td>2010.0</td>\n",
       "      <td>20110217.0</td>\n",
       "      <td>장편</td>\n",
       "      <td>개봉</td>\n",
       "      <td>한국,미국,홍콩</td>\n",
       "      <td>멜로/로맨스</td>\n",
       "      <td>한국</td>\n",
       "      <td>멜로/로맨스</td>\n",
       "      <td>2011</td>\n",
       "      <td>201102</td>\n",
       "    </tr>\n",
       "    <tr>\n",
       "      <th>2</th>\n",
       "      <td>20070458</td>\n",
       "      <td>냉정과 열정사이</td>\n",
       "      <td>Between Calm And Passion</td>\n",
       "      <td>2001.0</td>\n",
       "      <td>20031010.0</td>\n",
       "      <td>장편</td>\n",
       "      <td>개봉</td>\n",
       "      <td>일본</td>\n",
       "      <td>멜로/로맨스,드라마</td>\n",
       "      <td>일본</td>\n",
       "      <td>멜로/로맨스</td>\n",
       "      <td>2003</td>\n",
       "      <td>200310</td>\n",
       "    </tr>\n",
       "    <tr>\n",
       "      <th>3</th>\n",
       "      <td>20226500</td>\n",
       "      <td>달짝지근해: 7510</td>\n",
       "      <td>HONEYSWEET</td>\n",
       "      <td>2022.0</td>\n",
       "      <td>20230815.0</td>\n",
       "      <td>장편</td>\n",
       "      <td>개봉</td>\n",
       "      <td>한국</td>\n",
       "      <td>코미디</td>\n",
       "      <td>한국</td>\n",
       "      <td>코미디</td>\n",
       "      <td>2023</td>\n",
       "      <td>202308</td>\n",
       "    </tr>\n",
       "    <tr>\n",
       "      <th>4</th>\n",
       "      <td>20235004</td>\n",
       "      <td>여귀교- 저주를 부르는 게임</td>\n",
       "      <td>The Bridge Curse : Ritua</td>\n",
       "      <td>2023.0</td>\n",
       "      <td>NaN</td>\n",
       "      <td>장편</td>\n",
       "      <td>개봉예정</td>\n",
       "      <td>대만</td>\n",
       "      <td>공포(호러)</td>\n",
       "      <td>대만</td>\n",
       "      <td>공포(호러)</td>\n",
       "      <td>nan</td>\n",
       "      <td>nan</td>\n",
       "    </tr>\n",
       "  </tbody>\n",
       "</table>\n",
       "</div>"
      ],
      "text/plain": [
       "       영화코드            영화명국문                   영화명(영문)    제작연도         개봉일  \\\n",
       "0  20230966             사채소년                       NaN  2023.0         NaN   \n",
       "1  19820019         만추 리마스터링               Late Autumn  2010.0  20110217.0   \n",
       "2  20070458         냉정과 열정사이  Between Calm And Passion  2001.0  20031010.0   \n",
       "3  20226500      달짝지근해: 7510                HONEYSWEET  2022.0  20230815.0   \n",
       "4  20235004  여귀교- 저주를 부르는 게임  The Bridge Curse : Ritua  2023.0         NaN   \n",
       "\n",
       "  영화유형  제작상태  제작국가(전체)    영화장르(전체) 대표 제작 국가   대표 장르  개봉년도    개봉년월  \n",
       "0   장편  개봉예정        한국          액션       한국      액션   nan     nan  \n",
       "1   장편    개봉  한국,미국,홍콩      멜로/로맨스       한국  멜로/로맨스  2011  201102  \n",
       "2   장편    개봉        일본  멜로/로맨스,드라마       일본  멜로/로맨스  2003  200310  \n",
       "3   장편    개봉        한국         코미디       한국     코미디  2023  202308  \n",
       "4   장편  개봉예정        대만      공포(호러)       대만  공포(호러)   nan     nan  "
      ]
     },
     "execution_count": 76,
     "metadata": {},
     "output_type": "execute_result"
    }
   ],
   "source": [
    "release_year = [str(item)[0:4] for item in kmdb_df['개봉일']]\n",
    "kmdb_df['개봉년도'] = release_year\n",
    "kmdb_df['개봉년월'] = [str(item)[0:6] for item in kmdb_df['개봉일']]\n",
    "kmdb_df.head()"
   ]
  },
  {
   "cell_type": "markdown",
   "id": "5390487c-d568-477c-b34d-343fd6e69056",
   "metadata": {},
   "source": [
    "#### 컬럼 재배치 작업 -> 이미 생성된 칼럼 순서 등을 변경하고, 주요 데이터와 그 외 데이터를 컬럼1, 컬럼2로 구분"
   ]
  },
  {
   "cell_type": "code",
   "execution_count": 77,
   "id": "1e485461-a1a3-4e4b-af25-bc7726cca93e",
   "metadata": {},
   "outputs": [],
   "source": [
    "column01 = ['영화코드', '영화명국문', '영화명(영문)', '개봉년도', '개봉년월', '개봉일']\n",
    "column02 = ['대표 제작 국가', '대표 장르', '영화유형','제작상태', '영화장르(전체)', '제작국가(전체)', '제작연도']\n",
    "\n",
    "my_ordering = column01 + column02"
   ]
  },
  {
   "cell_type": "markdown",
   "id": "cdd6444d-cd4e-4ee8-a29f-013dbc7534aa",
   "metadata": {},
   "source": [
    "#### 누락된 컬럼이 없는 지 확인"
   ]
  },
  {
   "cell_type": "code",
   "execution_count": 78,
   "id": "78c19d42-ba96-4309-b8a6-a4258d6a2c79",
   "metadata": {},
   "outputs": [
    {
     "data": {
      "text/plain": [
       "True"
      ]
     },
     "execution_count": 78,
     "metadata": {},
     "output_type": "execute_result"
    }
   ],
   "source": [
    "has_all = set(kmdb_df.columns) == set(my_ordering)\n",
    "has_all"
   ]
  },
  {
   "cell_type": "markdown",
   "id": "a42b1166-b9d4-4056-a70a-03fa2ab9eb53",
   "metadata": {},
   "source": [
    "#### 재배치한 컬럼 다시 할당"
   ]
  },
  {
   "cell_type": "code",
   "execution_count": 82,
   "id": "5c92278e-ce76-4026-90a0-dd1aec2f41c4",
   "metadata": {},
   "outputs": [
    {
     "data": {
      "text/html": [
       "<div>\n",
       "<style scoped>\n",
       "    .dataframe tbody tr th:only-of-type {\n",
       "        vertical-align: middle;\n",
       "    }\n",
       "\n",
       "    .dataframe tbody tr th {\n",
       "        vertical-align: top;\n",
       "    }\n",
       "\n",
       "    .dataframe thead th {\n",
       "        text-align: right;\n",
       "    }\n",
       "</style>\n",
       "<table border=\"1\" class=\"dataframe\">\n",
       "  <thead>\n",
       "    <tr style=\"text-align: right;\">\n",
       "      <th></th>\n",
       "      <th>영화코드</th>\n",
       "      <th>영화명국문</th>\n",
       "      <th>영화명(영문)</th>\n",
       "      <th>개봉년도</th>\n",
       "      <th>개봉년월</th>\n",
       "      <th>개봉일</th>\n",
       "      <th>대표 제작 국가</th>\n",
       "      <th>대표 장르</th>\n",
       "      <th>영화유형</th>\n",
       "      <th>제작상태</th>\n",
       "      <th>영화장르(전체)</th>\n",
       "      <th>제작국가(전체)</th>\n",
       "      <th>제작연도</th>\n",
       "    </tr>\n",
       "  </thead>\n",
       "  <tbody>\n",
       "    <tr>\n",
       "      <th>0</th>\n",
       "      <td>20230966</td>\n",
       "      <td>사채소년</td>\n",
       "      <td>NaN</td>\n",
       "      <td>nan</td>\n",
       "      <td>nan</td>\n",
       "      <td>NaN</td>\n",
       "      <td>한국</td>\n",
       "      <td>액션</td>\n",
       "      <td>장편</td>\n",
       "      <td>개봉예정</td>\n",
       "      <td>액션</td>\n",
       "      <td>한국</td>\n",
       "      <td>2023.0</td>\n",
       "    </tr>\n",
       "    <tr>\n",
       "      <th>1</th>\n",
       "      <td>19820019</td>\n",
       "      <td>만추 리마스터링</td>\n",
       "      <td>Late Autumn</td>\n",
       "      <td>2011</td>\n",
       "      <td>201102</td>\n",
       "      <td>20110217.0</td>\n",
       "      <td>한국</td>\n",
       "      <td>멜로/로맨스</td>\n",
       "      <td>장편</td>\n",
       "      <td>개봉</td>\n",
       "      <td>멜로/로맨스</td>\n",
       "      <td>한국,미국,홍콩</td>\n",
       "      <td>2010.0</td>\n",
       "    </tr>\n",
       "    <tr>\n",
       "      <th>2</th>\n",
       "      <td>20070458</td>\n",
       "      <td>냉정과 열정사이</td>\n",
       "      <td>Between Calm And Passion</td>\n",
       "      <td>2003</td>\n",
       "      <td>200310</td>\n",
       "      <td>20031010.0</td>\n",
       "      <td>일본</td>\n",
       "      <td>멜로/로맨스</td>\n",
       "      <td>장편</td>\n",
       "      <td>개봉</td>\n",
       "      <td>멜로/로맨스,드라마</td>\n",
       "      <td>일본</td>\n",
       "      <td>2001.0</td>\n",
       "    </tr>\n",
       "    <tr>\n",
       "      <th>3</th>\n",
       "      <td>20226500</td>\n",
       "      <td>달짝지근해: 7510</td>\n",
       "      <td>HONEYSWEET</td>\n",
       "      <td>2023</td>\n",
       "      <td>202308</td>\n",
       "      <td>20230815.0</td>\n",
       "      <td>한국</td>\n",
       "      <td>코미디</td>\n",
       "      <td>장편</td>\n",
       "      <td>개봉</td>\n",
       "      <td>코미디</td>\n",
       "      <td>한국</td>\n",
       "      <td>2022.0</td>\n",
       "    </tr>\n",
       "    <tr>\n",
       "      <th>4</th>\n",
       "      <td>20235004</td>\n",
       "      <td>여귀교- 저주를 부르는 게임</td>\n",
       "      <td>The Bridge Curse : Ritua</td>\n",
       "      <td>nan</td>\n",
       "      <td>nan</td>\n",
       "      <td>NaN</td>\n",
       "      <td>대만</td>\n",
       "      <td>공포(호러)</td>\n",
       "      <td>장편</td>\n",
       "      <td>개봉예정</td>\n",
       "      <td>공포(호러)</td>\n",
       "      <td>대만</td>\n",
       "      <td>2023.0</td>\n",
       "    </tr>\n",
       "    <tr>\n",
       "      <th>...</th>\n",
       "      <td>...</td>\n",
       "      <td>...</td>\n",
       "      <td>...</td>\n",
       "      <td>...</td>\n",
       "      <td>...</td>\n",
       "      <td>...</td>\n",
       "      <td>...</td>\n",
       "      <td>...</td>\n",
       "      <td>...</td>\n",
       "      <td>...</td>\n",
       "      <td>...</td>\n",
       "      <td>...</td>\n",
       "      <td>...</td>\n",
       "    </tr>\n",
       "    <tr>\n",
       "      <th>98216</th>\n",
       "      <td>20050243</td>\n",
       "      <td>제2회 서울환경영화제[2005.9.8-9.14]</td>\n",
       "      <td>2nd Green Film Festival in Seoul</td>\n",
       "      <td>2005</td>\n",
       "      <td>200509</td>\n",
       "      <td>20050908.0</td>\n",
       "      <td>NaN</td>\n",
       "      <td>NaN</td>\n",
       "      <td>기타</td>\n",
       "      <td>기타</td>\n",
       "      <td>NaN</td>\n",
       "      <td>NaN</td>\n",
       "      <td>2005.0</td>\n",
       "    </tr>\n",
       "    <tr>\n",
       "      <th>98217</th>\n",
       "      <td>20020194</td>\n",
       "      <td>레슨/달이지고 비가 옵니다/저푸른 초원(단편)</td>\n",
       "      <td>NaN</td>\n",
       "      <td>2002</td>\n",
       "      <td>200207</td>\n",
       "      <td>20020719.0</td>\n",
       "      <td>한국</td>\n",
       "      <td>NaN</td>\n",
       "      <td>단편</td>\n",
       "      <td>기타</td>\n",
       "      <td>NaN</td>\n",
       "      <td>한국</td>\n",
       "      <td>2002.0</td>\n",
       "    </tr>\n",
       "    <tr>\n",
       "      <th>98218</th>\n",
       "      <td>20020310</td>\n",
       "      <td>엔조이/ 특집! 노래자랑(단편)</td>\n",
       "      <td>NaN</td>\n",
       "      <td>2002</td>\n",
       "      <td>200209</td>\n",
       "      <td>20020913.0</td>\n",
       "      <td>한국</td>\n",
       "      <td>NaN</td>\n",
       "      <td>단편</td>\n",
       "      <td>기타</td>\n",
       "      <td>NaN</td>\n",
       "      <td>한국</td>\n",
       "      <td>2001.0</td>\n",
       "    </tr>\n",
       "    <tr>\n",
       "      <th>98219</th>\n",
       "      <td>19910096</td>\n",
       "      <td>칙칙이의 내일은 참피온</td>\n",
       "      <td>Tomorrow's Champion</td>\n",
       "      <td>1991</td>\n",
       "      <td>199108</td>\n",
       "      <td>19910803.0</td>\n",
       "      <td>한국</td>\n",
       "      <td>코미디</td>\n",
       "      <td>장편</td>\n",
       "      <td>개봉</td>\n",
       "      <td>코미디</td>\n",
       "      <td>한국</td>\n",
       "      <td>1991.0</td>\n",
       "    </tr>\n",
       "    <tr>\n",
       "      <th>98220</th>\n",
       "      <td>20120862</td>\n",
       "      <td>테스트영화</td>\n",
       "      <td>NaN</td>\n",
       "      <td>nan</td>\n",
       "      <td>nan</td>\n",
       "      <td>NaN</td>\n",
       "      <td>한국</td>\n",
       "      <td>드라마</td>\n",
       "      <td>장편</td>\n",
       "      <td>기타</td>\n",
       "      <td>드라마</td>\n",
       "      <td>한국</td>\n",
       "      <td>2022.0</td>\n",
       "    </tr>\n",
       "  </tbody>\n",
       "</table>\n",
       "<p>98221 rows × 13 columns</p>\n",
       "</div>"
      ],
      "text/plain": [
       "           영화코드                       영화명국문                           영화명(영문)  \\\n",
       "0      20230966                        사채소년                               NaN   \n",
       "1      19820019                    만추 리마스터링                       Late Autumn   \n",
       "2      20070458                    냉정과 열정사이          Between Calm And Passion   \n",
       "3      20226500                 달짝지근해: 7510                        HONEYSWEET   \n",
       "4      20235004             여귀교- 저주를 부르는 게임          The Bridge Curse : Ritua   \n",
       "...         ...                         ...                               ...   \n",
       "98216  20050243  제2회 서울환경영화제[2005.9.8-9.14]  2nd Green Film Festival in Seoul   \n",
       "98217  20020194   레슨/달이지고 비가 옵니다/저푸른 초원(단편)                               NaN   \n",
       "98218  20020310           엔조이/ 특집! 노래자랑(단편)                               NaN   \n",
       "98219  19910096                칙칙이의 내일은 참피온               Tomorrow's Champion   \n",
       "98220  20120862                       테스트영화                               NaN   \n",
       "\n",
       "       개봉년도    개봉년월         개봉일 대표 제작 국가   대표 장르 영화유형  제작상태    영화장르(전체)  \\\n",
       "0       nan     nan         NaN       한국      액션   장편  개봉예정          액션   \n",
       "1      2011  201102  20110217.0       한국  멜로/로맨스   장편    개봉      멜로/로맨스   \n",
       "2      2003  200310  20031010.0       일본  멜로/로맨스   장편    개봉  멜로/로맨스,드라마   \n",
       "3      2023  202308  20230815.0       한국     코미디   장편    개봉         코미디   \n",
       "4       nan     nan         NaN       대만  공포(호러)   장편  개봉예정      공포(호러)   \n",
       "...     ...     ...         ...      ...     ...  ...   ...         ...   \n",
       "98216  2005  200509  20050908.0      NaN     NaN   기타    기타         NaN   \n",
       "98217  2002  200207  20020719.0       한국     NaN   단편    기타         NaN   \n",
       "98218  2002  200209  20020913.0       한국     NaN   단편    기타         NaN   \n",
       "98219  1991  199108  19910803.0       한국     코미디   장편    개봉         코미디   \n",
       "98220   nan     nan         NaN       한국     드라마   장편    기타         드라마   \n",
       "\n",
       "       제작국가(전체)    제작연도  \n",
       "0            한국  2023.0  \n",
       "1      한국,미국,홍콩  2010.0  \n",
       "2            일본  2001.0  \n",
       "3            한국  2022.0  \n",
       "4            대만  2023.0  \n",
       "...         ...     ...  \n",
       "98216       NaN  2005.0  \n",
       "98217        한국  2002.0  \n",
       "98218        한국  2001.0  \n",
       "98219        한국  1991.0  \n",
       "98220        한국  2022.0  \n",
       "\n",
       "[98221 rows x 13 columns]"
      ]
     },
     "execution_count": 82,
     "metadata": {},
     "output_type": "execute_result"
    }
   ],
   "source": [
    "kmdb_df = kmdb_df[my_ordering]\n",
    "kmdb_df"
   ]
  },
  {
   "cell_type": "markdown",
   "id": "8eccb002-0275-4cf3-9c28-4e52af3637d0",
   "metadata": {},
   "source": [
    "#### 중복 장르 제거한 목록 보기"
   ]
  },
  {
   "cell_type": "code",
   "execution_count": null,
   "id": "106fe8b5-55c6-4343-aca8-f3abbca1d65c",
   "metadata": {},
   "outputs": [],
   "source": [
    "# 코드 사라졌다...."
   ]
  },
  {
   "cell_type": "markdown",
   "id": "ae676f30-fe7c-40fe-aeed-85a8089447c6",
   "metadata": {},
   "source": [
    "#### 4개 장르만 담은 데이터프레임(select_genre) 정의, 중복 장르 제거한 목록이 대표 장르(genre_filter)와 같은 4개인지 확인"
   ]
  },
  {
   "cell_type": "code",
   "execution_count": 91,
   "id": "a03100d7-4299-4a92-8acb-7468b4e853ad",
   "metadata": {},
   "outputs": [
    {
     "data": {
      "text/plain": [
       "array(['액션', '코미디', '드라마', '판타지'], dtype=object)"
      ]
     },
     "execution_count": 91,
     "metadata": {},
     "output_type": "execute_result"
    }
   ],
   "source": [
    "select_genre = ['드라마', '코미디', '판타지', '액션']\n",
    "select_genre_df = kmdb_df[kmdb_df['대표 장르'].isin(select_genre)]\n",
    "select_genre_df['대표 장르'].unique()"
   ]
  },
  {
   "cell_type": "markdown",
   "id": "a08f152c-f178-493e-abd9-c9c69c74af40",
   "metadata": {},
   "source": [
    "#### 4개 장르만 담은 데이터프레임의 장르가 몇 개인지만 카운트하여 'Series 객체(select_genre_data)'에 저장"
   ]
  },
  {
   "cell_type": "code",
   "execution_count": 92,
   "id": "be29734d-6457-49b0-b3bc-814240619b78",
   "metadata": {},
   "outputs": [
    {
     "name": "stdout",
     "output_type": "stream",
     "text": [
      "<class 'pandas.core.series.Series'>\n"
     ]
    },
    {
     "data": {
      "text/html": [
       "<div>\n",
       "<style scoped>\n",
       "    .dataframe tbody tr th:only-of-type {\n",
       "        vertical-align: middle;\n",
       "    }\n",
       "\n",
       "    .dataframe tbody tr th {\n",
       "        vertical-align: top;\n",
       "    }\n",
       "\n",
       "    .dataframe thead th {\n",
       "        text-align: right;\n",
       "    }\n",
       "</style>\n",
       "<table border=\"1\" class=\"dataframe\">\n",
       "  <thead>\n",
       "    <tr style=\"text-align: right;\">\n",
       "      <th></th>\n",
       "      <th>count</th>\n",
       "    </tr>\n",
       "    <tr>\n",
       "      <th>대표 장르</th>\n",
       "      <th></th>\n",
       "    </tr>\n",
       "  </thead>\n",
       "  <tbody>\n",
       "    <tr>\n",
       "      <th>드라마</th>\n",
       "      <td>22003</td>\n",
       "    </tr>\n",
       "    <tr>\n",
       "      <th>액션</th>\n",
       "      <td>6176</td>\n",
       "    </tr>\n",
       "    <tr>\n",
       "      <th>코미디</th>\n",
       "      <td>5277</td>\n",
       "    </tr>\n",
       "    <tr>\n",
       "      <th>판타지</th>\n",
       "      <td>588</td>\n",
       "    </tr>\n",
       "  </tbody>\n",
       "</table>\n",
       "</div>"
      ],
      "text/plain": [
       "       count\n",
       "대표 장르       \n",
       "드라마    22003\n",
       "액션      6176\n",
       "코미디     5277\n",
       "판타지      588"
      ]
     },
     "execution_count": 92,
     "metadata": {},
     "output_type": "execute_result"
    }
   ],
   "source": [
    "select_genre_data = select_genre_df['대표 장르'].value_counts()\n",
    "print(type(select_genre_data))\n",
    "select_genre_data.to_frame()"
   ]
  },
  {
   "cell_type": "markdown",
   "id": "25b816e1-b70f-4d0e-988a-c27ebbcfdfc0",
   "metadata": {},
   "source": [
    "#### matplotlib 라이브러리(as plt) 임포트 - 글씨체 설정"
   ]
  },
  {
   "cell_type": "code",
   "execution_count": 93,
   "id": "a77c316b-bf3e-49ef-9ea2-7e73b1a7f40d",
   "metadata": {},
   "outputs": [],
   "source": [
    "import matplotlib.pyplot as plt\n",
    "plt.rc('font', family='Malgun Gothic')  # 한글 깨지지 않도록 맑은 고딕 설정"
   ]
  },
  {
   "cell_type": "markdown",
   "id": "575b3796-6273-422d-ab15-e42fde8f1da9",
   "metadata": {},
   "source": [
    "#### 'pie' 차트 그리기"
   ]
  },
  {
   "cell_type": "code",
   "execution_count": 94,
   "id": "d1276e97-c9eb-42e1-a4a4-483e677bc339",
   "metadata": {},
   "outputs": [
    {
     "data": {
      "text/plain": [
       "<Axes: ylabel='count'>"
      ]
     },
     "execution_count": 94,
     "metadata": {},
     "output_type": "execute_result"
    },
    {
     "data": {
      "image/png": "[encoded data removed]",
      "text/plain": [
       "<Figure size 640x480 with 1 Axes>"
      ]
     },
     "metadata": {},
     "output_type": "display_data"
    }
   ],
   "source": [
    "select_genre_data.plot(kind='pie', autopct='%1.2f%%')"
   ]
  },
  {
   "cell_type": "markdown",
   "id": "d9921bd8-5876-4aa6-8116-021a2561b035",
   "metadata": {},
   "source": [
    "#### 5개 장르만 담은 데이터프레임(select_genre_df) 정의, 중복 장르 제거한 목록이 대표 장르(select_genre)와 같은 4개인지 확인"
   ]
  },
  {
   "cell_type": "code",
   "execution_count": 95,
   "id": "a01b17fc-494e-49b4-aba0-19cd87592b9b",
   "metadata": {},
   "outputs": [
    {
     "data": {
      "text/plain": [
       "array(['코미디', '드라마', '애니메이션', '범죄', '스릴러'], dtype=object)"
      ]
     },
     "execution_count": 95,
     "metadata": {},
     "output_type": "execute_result"
    }
   ],
   "source": [
    "select_genre = ['드라마', '애니메이션', '범죄', '코미디', '스릴러']\n",
    "select_genre_df = kmdb_df[kmdb_df['대표 장르'].isin(select_genre)]\n",
    "select_genre_df['대표 장르'].unique()"
   ]
  },
  {
   "cell_type": "markdown",
   "id": "9ec37376-9339-463d-b280-3c00918c52d5",
   "metadata": {},
   "source": [
    "#### 5개 장르만 담은 데이터프레임의 장르가 몇 개인지만 카운트하여 'Series 객체(Grouping_genre_data)'에 저장"
   ]
  },
  {
   "cell_type": "code",
   "execution_count": 96,
   "id": "05f1d975-40a7-42a8-b8eb-c5459d395072",
   "metadata": {},
   "outputs": [
    {
     "data": {
      "text/html": [
       "<div>\n",
       "<style scoped>\n",
       "    .dataframe tbody tr th:only-of-type {\n",
       "        vertical-align: middle;\n",
       "    }\n",
       "\n",
       "    .dataframe tbody tr th {\n",
       "        vertical-align: top;\n",
       "    }\n",
       "\n",
       "    .dataframe thead th {\n",
       "        text-align: right;\n",
       "    }\n",
       "</style>\n",
       "<table border=\"1\" class=\"dataframe\">\n",
       "  <thead>\n",
       "    <tr style=\"text-align: right;\">\n",
       "      <th></th>\n",
       "      <th>대표 장르</th>\n",
       "    </tr>\n",
       "    <tr>\n",
       "      <th>대표 장르</th>\n",
       "      <th></th>\n",
       "    </tr>\n",
       "  </thead>\n",
       "  <tbody>\n",
       "    <tr>\n",
       "      <th>범죄</th>\n",
       "      <td>1523</td>\n",
       "    </tr>\n",
       "    <tr>\n",
       "      <th>스릴러</th>\n",
       "      <td>1870</td>\n",
       "    </tr>\n",
       "    <tr>\n",
       "      <th>코미디</th>\n",
       "      <td>5277</td>\n",
       "    </tr>\n",
       "    <tr>\n",
       "      <th>애니메이션</th>\n",
       "      <td>8638</td>\n",
       "    </tr>\n",
       "    <tr>\n",
       "      <th>드라마</th>\n",
       "      <td>22003</td>\n",
       "    </tr>\n",
       "  </tbody>\n",
       "</table>\n",
       "</div>"
      ],
      "text/plain": [
       "       대표 장르\n",
       "대표 장르       \n",
       "범죄      1523\n",
       "스릴러     1870\n",
       "코미디     5277\n",
       "애니메이션   8638\n",
       "드라마    22003"
      ]
     },
     "execution_count": 96,
     "metadata": {},
     "output_type": "execute_result"
    }
   ],
   "source": [
    "Grouping_genre = select_genre_df.groupby('대표 장르')['대표 장르']  # '('대표장르')'로 그룹핑  # 장르에 대해 다른 칼럼도 가져올 수 있음\n",
    "Grouping_genre_data = Grouping_genre.count().sort_values()  # 값 - '['대표장르']'로 오름차순 정렬\n",
    "Grouping_genre_data.to_frame()"
   ]
  },
  {
   "cell_type": "code",
   "execution_count": 97,
   "id": "61474379-623b-4a8a-ba01-736a90a29b10",
   "metadata": {},
   "outputs": [
    {
     "data": {
      "text/plain": [
       "<Axes: xlabel='대표 장르'>"
      ]
     },
     "execution_count": 97,
     "metadata": {},
     "output_type": "execute_result"
    },
    {
     "data": {
      "image/png": "[encoded data removed]",
      "text/plain": [
       "<Figure size 640x480 with 1 Axes>"
      ]
     },
     "metadata": {},
     "output_type": "display_data"
    }
   ],
   "source": [
    "Grouping_genre_data.plot(kind='bar')"
   ]
  },
  {
   "cell_type": "code",
   "execution_count": 83,
   "id": "71447bfc-4ac2-431d-99d2-09bc2923d9e2",
   "metadata": {
    "scrolled": true
   },
   "outputs": [
    {
     "data": {
      "text/plain": [
       "array(['한국', '일본', '미국', '중국'], dtype=object)"
      ]
     },
     "execution_count": 83,
     "metadata": {},
     "output_type": "execute_result"
    }
   ],
   "source": [
    "select_nation = ['미국', '일본', '중국', '한국']\n",
    "select_nation_df = kmdb_df[kmdb_df['대표 제작 국가'].isin(select_nation)]\n",
    "select_nation_df['대표 제작 국가'].unique()"
   ]
  },
  {
   "cell_type": "code",
   "execution_count": 84,
   "id": "3fb4800e-dfd7-4fff-9bc0-cc7da27312e9",
   "metadata": {},
   "outputs": [
    {
     "data": {
      "text/html": [
       "<div>\n",
       "<style scoped>\n",
       "    .dataframe tbody tr th:only-of-type {\n",
       "        vertical-align: middle;\n",
       "    }\n",
       "\n",
       "    .dataframe tbody tr th {\n",
       "        vertical-align: top;\n",
       "    }\n",
       "\n",
       "    .dataframe thead th {\n",
       "        text-align: right;\n",
       "    }\n",
       "</style>\n",
       "<table border=\"1\" class=\"dataframe\">\n",
       "  <thead>\n",
       "    <tr style=\"text-align: right;\">\n",
       "      <th></th>\n",
       "      <th>대표 제작 국가</th>\n",
       "    </tr>\n",
       "    <tr>\n",
       "      <th>대표 제작 국가</th>\n",
       "      <th></th>\n",
       "    </tr>\n",
       "  </thead>\n",
       "  <tbody>\n",
       "    <tr>\n",
       "      <th>미국</th>\n",
       "      <td>15761</td>\n",
       "    </tr>\n",
       "    <tr>\n",
       "      <th>일본</th>\n",
       "      <td>11963</td>\n",
       "    </tr>\n",
       "    <tr>\n",
       "      <th>중국</th>\n",
       "      <td>1951</td>\n",
       "    </tr>\n",
       "    <tr>\n",
       "      <th>한국</th>\n",
       "      <td>33049</td>\n",
       "    </tr>\n",
       "  </tbody>\n",
       "</table>\n",
       "</div>"
      ],
      "text/plain": [
       "          대표 제작 국가\n",
       "대표 제작 국가          \n",
       "미국           15761\n",
       "일본           11963\n",
       "중국            1951\n",
       "한국           33049"
      ]
     },
     "execution_count": 84,
     "metadata": {},
     "output_type": "execute_result"
    }
   ],
   "source": [
    "Grouping_nation = select_nation_df.groupby('대표 제작 국가')['대표 제작 국가'] \n",
    "Grouping_nation_data = Grouping_nation.count().sort_index()  # 인덱스 - '('대표 제작 국가')'로 오름차순 정렬\n",
    "Grouping_nation_data.to_frame()"
   ]
  },
  {
   "cell_type": "code",
   "execution_count": 85,
   "id": "25a7ce16-5c8f-468d-8d0a-974076dff08a",
   "metadata": {},
   "outputs": [
    {
     "data": {
      "text/plain": [
       "<Axes: ylabel='대표 제작 국가'>"
      ]
     },
     "execution_count": 85,
     "metadata": {},
     "output_type": "execute_result"
    },
    {
     "data": {
      "image/png": "[encoded data removed]",
      "text/plain": [
       "<Figure size 640x480 with 1 Axes>"
      ]
     },
     "metadata": {},
     "output_type": "display_data"
    }
   ],
   "source": [
    "Grouping_nation_data.plot(kind='barh', rot=0)"
   ]
  },
  {
   "cell_type": "markdown",
   "id": "f04bf7a3-0e0b-4673-80e1-2030a1f4b36e",
   "metadata": {},
   "source": [
    "#### 국가와 장르별 "
   ]
  },
  {
   "cell_type": "code",
   "execution_count": 86,
   "id": "f6fc8448-2c6b-42f7-88c6-fd849c532d5e",
   "metadata": {
    "scrolled": true
   },
   "outputs": [],
   "source": [
    "select_nation = ['한국', '미국', '일본']\n",
    "select_genre = ['범죄', '코미디', '스릴러', '뮤지컬']\n",
    "\n",
    "select_data_df = kmdb_df[kmdb_df['대표 제작 국가'].isin(select_nation)]\n",
    "select_data_df = select_data_df[select_data_df['대표 장르'].isin(select_genre)]"
   ]
  },
  {
   "cell_type": "code",
   "execution_count": 103,
   "id": "8bf16b98-a7ed-4fcf-ac21-271752cc0e6e",
   "metadata": {},
   "outputs": [
    {
     "data": {
      "text/html": [
       "<div>\n",
       "<style scoped>\n",
       "    .dataframe tbody tr th:only-of-type {\n",
       "        vertical-align: middle;\n",
       "    }\n",
       "\n",
       "    .dataframe tbody tr th {\n",
       "        vertical-align: top;\n",
       "    }\n",
       "\n",
       "    .dataframe thead th {\n",
       "        text-align: right;\n",
       "    }\n",
       "</style>\n",
       "<table border=\"1\" class=\"dataframe\">\n",
       "  <thead>\n",
       "    <tr style=\"text-align: right;\">\n",
       "      <th></th>\n",
       "      <th>대표 제작 국가</th>\n",
       "      <th>대표 장르</th>\n",
       "      <th>cnt</th>\n",
       "    </tr>\n",
       "  </thead>\n",
       "  <tbody>\n",
       "    <tr>\n",
       "      <th>0</th>\n",
       "      <td>미국</td>\n",
       "      <td>뮤지컬</td>\n",
       "      <td>88</td>\n",
       "    </tr>\n",
       "    <tr>\n",
       "      <th>1</th>\n",
       "      <td>미국</td>\n",
       "      <td>범죄</td>\n",
       "      <td>670</td>\n",
       "    </tr>\n",
       "    <tr>\n",
       "      <th>2</th>\n",
       "      <td>미국</td>\n",
       "      <td>스릴러</td>\n",
       "      <td>787</td>\n",
       "    </tr>\n",
       "    <tr>\n",
       "      <th>3</th>\n",
       "      <td>미국</td>\n",
       "      <td>코미디</td>\n",
       "      <td>2054</td>\n",
       "    </tr>\n",
       "    <tr>\n",
       "      <th>4</th>\n",
       "      <td>일본</td>\n",
       "      <td>범죄</td>\n",
       "      <td>64</td>\n",
       "    </tr>\n",
       "    <tr>\n",
       "      <th>5</th>\n",
       "      <td>일본</td>\n",
       "      <td>스릴러</td>\n",
       "      <td>79</td>\n",
       "    </tr>\n",
       "    <tr>\n",
       "      <th>6</th>\n",
       "      <td>일본</td>\n",
       "      <td>코미디</td>\n",
       "      <td>241</td>\n",
       "    </tr>\n",
       "    <tr>\n",
       "      <th>7</th>\n",
       "      <td>한국</td>\n",
       "      <td>뮤지컬</td>\n",
       "      <td>73</td>\n",
       "    </tr>\n",
       "    <tr>\n",
       "      <th>8</th>\n",
       "      <td>한국</td>\n",
       "      <td>범죄</td>\n",
       "      <td>205</td>\n",
       "    </tr>\n",
       "    <tr>\n",
       "      <th>9</th>\n",
       "      <td>한국</td>\n",
       "      <td>스릴러</td>\n",
       "      <td>422</td>\n",
       "    </tr>\n",
       "    <tr>\n",
       "      <th>10</th>\n",
       "      <td>한국</td>\n",
       "      <td>코미디</td>\n",
       "      <td>969</td>\n",
       "    </tr>\n",
       "  </tbody>\n",
       "</table>\n",
       "</div>"
      ],
      "text/plain": [
       "   대표 제작 국가 대표 장르   cnt\n",
       "0        미국   뮤지컬    88\n",
       "1        미국    범죄   670\n",
       "2        미국   스릴러   787\n",
       "3        미국   코미디  2054\n",
       "4        일본    범죄    64\n",
       "5        일본   스릴러    79\n",
       "6        일본   코미디   241\n",
       "7        한국   뮤지컬    73\n",
       "8        한국    범죄   205\n",
       "9        한국   스릴러   422\n",
       "10       한국   코미디   969"
      ]
     },
     "execution_count": 103,
     "metadata": {},
     "output_type": "execute_result"
    }
   ],
   "source": [
    "select_data_group = select_data_df.groupby(['대표 제작 국가', '대표 장르'])['대표 제작 국가']\n",
    "group_data = select_data_group.count().to_frame()\n",
    "group_data = group_data.rename(columns={'대표 제작 국가':'cnt'})\n",
    "group_data.reset_index()"
   ]
  },
  {
   "cell_type": "code",
   "execution_count": 88,
   "id": "09254198-136a-402c-b5df-507172b75443",
   "metadata": {},
   "outputs": [
    {
     "data": {
      "text/html": [
       "<div>\n",
       "<style scoped>\n",
       "    .dataframe tbody tr th:only-of-type {\n",
       "        vertical-align: middle;\n",
       "    }\n",
       "\n",
       "    .dataframe tbody tr th {\n",
       "        vertical-align: top;\n",
       "    }\n",
       "\n",
       "    .dataframe thead th {\n",
       "        text-align: right;\n",
       "    }\n",
       "</style>\n",
       "<table border=\"1\" class=\"dataframe\">\n",
       "  <thead>\n",
       "    <tr style=\"text-align: right;\">\n",
       "      <th>대표 장르</th>\n",
       "      <th>뮤지컬</th>\n",
       "      <th>범죄</th>\n",
       "      <th>스릴러</th>\n",
       "      <th>코미디</th>\n",
       "    </tr>\n",
       "    <tr>\n",
       "      <th>대표 제작 국가</th>\n",
       "      <th></th>\n",
       "      <th></th>\n",
       "      <th></th>\n",
       "      <th></th>\n",
       "    </tr>\n",
       "  </thead>\n",
       "  <tbody>\n",
       "    <tr>\n",
       "      <th>미국</th>\n",
       "      <td>88.0</td>\n",
       "      <td>670.0</td>\n",
       "      <td>787.0</td>\n",
       "      <td>2054.0</td>\n",
       "    </tr>\n",
       "    <tr>\n",
       "      <th>일본</th>\n",
       "      <td>NaN</td>\n",
       "      <td>64.0</td>\n",
       "      <td>79.0</td>\n",
       "      <td>241.0</td>\n",
       "    </tr>\n",
       "    <tr>\n",
       "      <th>한국</th>\n",
       "      <td>73.0</td>\n",
       "      <td>205.0</td>\n",
       "      <td>422.0</td>\n",
       "      <td>969.0</td>\n",
       "    </tr>\n",
       "  </tbody>\n",
       "</table>\n",
       "</div>"
      ],
      "text/plain": [
       "대표 장르      뮤지컬     범죄    스릴러     코미디\n",
       "대표 제작 국가                            \n",
       "미국        88.0  670.0  787.0  2054.0\n",
       "일본         NaN   64.0   79.0   241.0\n",
       "한국        73.0  205.0  422.0   969.0"
      ]
     },
     "execution_count": 88,
     "metadata": {},
     "output_type": "execute_result"
    }
   ],
   "source": [
    "group_data_22 = pd.pivot_table(group_data, index='대표 제작 국가', columns='대표 장르',values='cnt', aggfunc='mean')\n",
    "group_data_22"
   ]
  },
  {
   "cell_type": "code",
   "execution_count": 89,
   "id": "721c1c2e-ff63-4671-9fb8-7791f9aa2d24",
   "metadata": {},
   "outputs": [
    {
     "data": {
      "text/plain": [
       "Text(0.5, 1.0, '국가와 장르별 다변량 수직 막대 그래프')"
      ]
     },
     "execution_count": 89,
     "metadata": {},
     "output_type": "execute_result"
    },
    {
     "data": {
      "image/png": "[encoded data removed]",
      "text/plain": [
       "<Figure size 640x480 with 1 Axes>"
      ]
     },
     "metadata": {},
     "output_type": "display_data"
    }
   ],
   "source": [
    "group_data_22.plot(kind='bar', rot=0)\n",
    "plt.title('국가와 장르별 다변량 수직 막대 그래프')"
   ]
  },
  {
   "cell_type": "code",
   "execution_count": 90,
   "id": "bfd5a9fc-0283-411a-8657-c0e270bb4519",
   "metadata": {},
   "outputs": [
    {
     "data": {
      "text/plain": [
       "Text(0.5, 1.0, '국가와 장르별 다변량 수직 막대 그래프')"
      ]
     },
     "execution_count": 90,
     "metadata": {},
     "output_type": "execute_result"
    },
    {
     "data": {
      "image/png": "[encoded data removed]",
      "text/plain": [
       "<Figure size 640x480 with 1 Axes>"
      ]
     },
     "metadata": {},
     "output_type": "display_data"
    }
   ],
   "source": [
    "group_data_22.T.plot(kind='bar', rot=0)\n",
    "plt.title('국가와 장르별 다변량 수직 막대 그래프')"
   ]
  },
  {
   "cell_type": "code",
   "execution_count": null,
   "id": "7423ac24-bbcd-46fa-8234-bf1e5d6de3a4",
   "metadata": {},
   "outputs": [],
   "source": []
  },
  {
   "cell_type": "code",
   "execution_count": null,
   "id": "eb98a36c-d88f-4f0b-aa6d-16047a2dbb03",
   "metadata": {},
   "outputs": [],
   "source": []
  },
  {
   "cell_type": "code",
   "execution_count": null,
   "id": "8c4c312c-32b1-4ca0-91ac-ec2781cc3eb9",
   "metadata": {},
   "outputs": [],
   "source": []
  }
 ],
 "metadata": {
  "kernelspec": {
   "display_name": "Python 3 (ipykernel)",
   "language": "python",
   "name": "python3"
  },
  "language_info": {
   "codemirror_mode": {
    "name": "ipython",
    "version": 3
   },
   "file_extension": ".py",
   "mimetype": "text/x-python",
   "name": "python",
   "nbconvert_exporter": "python",
   "pygments_lexer": "ipython3",
   "version": "3.12.4"
  }
 },
 "nbformat": 4,
 "nbformat_minor": 5
}
