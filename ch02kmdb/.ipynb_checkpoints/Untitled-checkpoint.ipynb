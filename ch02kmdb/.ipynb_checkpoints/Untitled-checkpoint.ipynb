{
 "cells": [
  {
   "cell_type": "code",
   "execution_count": 18,
   "id": "aee6bf65-2675-4581-a690-49c3414843ca",
   "metadata": {},
   "outputs": [],
   "source": [
    "import pandas as pd\n",
    "import numpy as np\n",
    "import folium\n",
    "import requests\n",
    "\n",
    "from bs4 import BeautifulSoup\n",
    "\n",
    "# pip install tqdm : progressBar 구현\n",
    "from tqdm.notebook import tqdm \n",
    "from selenium import webdriver\n",
    "\n",
    "from selenium.webdriver.common.by import By\n",
    "from selenium.webdriver.support.ui import WebDriverWait\n",
    "from selenium.webdriver.support import expected_conditions as EC\n",
    "from selenium.webdriver.chrome.service import Service\n",
    "\n",
    "# jupyter nbconvert --to script coffeeStore.ipynb"
   ]
  },
  {
   "cell_type": "code",
   "execution_count": 22,
   "id": "70cf442a-b474-4d42-aefb-545839116939",
   "metadata": {},
   "outputs": [
    {
     "name": "stdout",
     "output_type": "stream",
     "text": [
      "<class 'selenium.webdriver.chrome.webdriver.WebDriver'>\n"
     ]
    }
   ],
   "source": [
    "chrome_options = webdriver.ChromeOptions()  # 크롬 브라우저 옵션\n",
    "drive_path = 'chromedriver.exe'  # 다운로드 받은 드라이버 파일\n",
    "my_service = Service(drive_path)  # 드라이버 제어를 위한 서비스 객체\n",
    "driver = webdriver.Chrome(service=my_service, options=chrome_options)  # 드라이버 객체\n",
    "print(type(driver))  # 객체가 잘 생성되었는지 확인\n",
    "\n",
    "wait_time = 10 # 최대 대기 시간\n",
    "driver.implicitly_wait(wait_time)"
   ]
  },
  {
   "cell_type": "code",
   "execution_count": 23,
   "id": "40b0d7d8-b736-4a5b-9e46-414dfe0fa3cf",
   "metadata": {
    "scrolled": true
   },
   "outputs": [],
   "source": [
    "driver.maximize_window()  # 윈도우 창 최대화"
   ]
  },
  {
   "cell_type": "code",
   "execution_count": 27,
   "id": "6a5ef9f5-c295-4a08-bd9f-e7f483ab94e0",
   "metadata": {},
   "outputs": [],
   "source": [
    "# 스타벅스) 매장 찾기 - 지역 검색 링크 주소\n",
    "starbucks_url = 'https://www.starbucks.co.kr/store/store_map.do?disp=local'\n",
    "driver.get(starbucks_url)  # 해당 페이지로 이동"
   ]
  },
  {
   "cell_type": "code",
   "execution_count": 31,
   "id": "2d75e5b7-7dc7-43ab-8883-c4043d534125",
   "metadata": {},
   "outputs": [],
   "source": [
    "# 스타벅스) '서울' 링크 클릭\n",
    "starbucks_seoul_selector = '#container > div > form > fieldset > div > section > article.find_store_cont > article > article:nth-child(4) > div.loca_step1 > div.loca_step1_cont > ul > li:nth-child(1) > a'\n",
    "WebDriverWait(driver, 5).until(EC.presence_of_element_located((By.CSS_SELECTOR, starbucks_seoul_selector))).click() # 클릭 텀을 주기"
   ]
  },
  {
   "cell_type": "code",
   "execution_count": null,
   "id": "3fdc9782-383e-4a55-88d2-40238e06b889",
   "metadata": {},
   "outputs": [],
   "source": [
    "# 스타벅스) '서울'-' 전체' 클릭\n",
    "starbucks_seoul_all = '#mCSB_2_container > ul > li:nth-child(1) > a'\n",
    "WebDriverWait(driver, 5).until(EC.presence_of_element_located((By.CSS_SELECTOR, starbucks_seoul_selector))).click()"
   ]
  },
  {
   "cell_type": "code",
   "execution_count": null,
   "id": "3975cc83-4ce9-40a7-b264-1fd5824240cf",
   "metadata": {},
   "outputs": [],
   "source": [
    "# 스타벅스 html 코드를 파싱하여 html 파일에 기록"
   ]
  },
  {
   "cell_type": "code",
   "execution_count": null,
   "id": "cba42fd3-193a-4688-8ec9-6573e4ae6360",
   "metadata": {},
   "outputs": [],
   "source": []
  },
  {
   "cell_type": "code",
   "execution_count": null,
   "id": "9dd451ea-1536-4e16-a922-8c01986d6a3b",
   "metadata": {},
   "outputs": [],
   "source": []
  },
  {
   "cell_type": "code",
   "execution_count": null,
   "id": "a65373df-5f91-4910-a5d3-70f3c5745fd8",
   "metadata": {},
   "outputs": [],
   "source": []
  },
  {
   "cell_type": "code",
   "execution_count": null,
   "id": "c2ae7b29-1eb4-4f85-9cbb-b800d1b604d8",
   "metadata": {},
   "outputs": [],
   "source": []
  }
 ],
 "metadata": {
  "kernelspec": {
   "display_name": "Python 3 (ipykernel)",
   "language": "python",
   "name": "python3"
  },
  "language_info": {
   "codemirror_mode": {
    "name": "ipython",
    "version": 3
   },
   "file_extension": ".py",
   "mimetype": "text/x-python",
   "name": "python",
   "nbconvert_exporter": "python",
   "pygments_lexer": "ipython3",
   "version": "3.12.4"
  }
 },
 "nbformat": 4,
 "nbformat_minor": 5
}
