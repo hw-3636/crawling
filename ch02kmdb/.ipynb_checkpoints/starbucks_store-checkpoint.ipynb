{
 "cells": [
  {
   "cell_type": "code",
   "execution_count": 18,
   "id": "aee6bf65-2675-4581-a690-49c3414843ca",
   "metadata": {},
   "outputs": [],
   "source": [
    "import pandas as pd\n",
    "import numpy as np\n",
    "import folium\n",
    "import requests\n",
    "\n",
    "from bs4 import BeautifulSoup\n",
    "\n",
    "# pip install tqdm : progressBar 구현\n",
    "from tqdm.notebook import tqdm \n",
    "from selenium import webdriver\n",
    "\n",
    "from selenium.webdriver.common.by import By\n",
    "from selenium.webdriver.support.ui import WebDriverWait\n",
    "from selenium.webdriver.support import expected_conditions as EC\n",
    "from selenium.webdriver.chrome.service import Service\n",
    "\n",
    "# jupyter nbconvert --to script coffeeStore.ipynb"
   ]
  },
  {
   "cell_type": "code",
   "execution_count": 22,
   "id": "70cf442a-b474-4d42-aefb-545839116939",
   "metadata": {},
   "outputs": [
    {
     "name": "stdout",
     "output_type": "stream",
     "text": [
      "<class 'selenium.webdriver.chrome.webdriver.WebDriver'>\n"
     ]
    }
   ],
   "source": [
    "chrome_options = webdriver.ChromeOptions()  # 크롬 브라우저 옵션\n",
    "drive_path = 'chromedriver.exe'  # 다운로드 받은 드라이버 파일\n",
    "my_service = Service(drive_path)  # 드라이버 제어를 위한 서비스 객체\n",
    "driver = webdriver.Chrome(service=my_service, options=chrome_options)  # 드라이버 객체\n",
    "print(type(driver))  # 객체가 잘 생성되었는지 확인\n",
    "\n",
    "wait_time = 10 # 최대 대기 시간\n",
    "driver.implicitly_wait(wait_time)"
   ]
  },
  {
   "cell_type": "code",
   "execution_count": 23,
   "id": "40b0d7d8-b736-4a5b-9e46-414dfe0fa3cf",
   "metadata": {
    "scrolled": true
   },
   "outputs": [],
   "source": [
    "driver.maximize_window()  # 윈도우 창 최대화"
   ]
  },
  {
   "cell_type": "code",
   "execution_count": 27,
   "id": "6a5ef9f5-c295-4a08-bd9f-e7f483ab94e0",
   "metadata": {},
   "outputs": [],
   "source": [
    "# 스타벅스) 매장 찾기 - 지역 검색 링크 주소\n",
    "starbucks_url = 'https://www.starbucks.co.kr/store/store_map.do?disp=local'\n",
    "driver.get(starbucks_url)  # 해당 페이지로 이동"
   ]
  },
  {
   "cell_type": "code",
   "execution_count": 31,
   "id": "2d75e5b7-7dc7-43ab-8883-c4043d534125",
   "metadata": {},
   "outputs": [],
   "source": [
    "# 스타벅스) '서울' 링크 클릭\n",
    "starbucks_seoul_selector = '#container > div > form > fieldset > div > section > article.find_store_cont > article > article:nth-child(4) > div.loca_step1 > div.loca_step1_cont > ul > li:nth-child(1) > a'\n",
    "WebDriverWait(driver, 5).until(EC.presence_of_element_located((By.CSS_SELECTOR, starbucks_seoul_selector))).click() # 클릭 텀을 주기"
   ]
  },
  {
   "cell_type": "code",
   "execution_count": 32,
   "id": "3fdc9782-383e-4a55-88d2-40238e06b889",
   "metadata": {},
   "outputs": [
    {
     "ename": "ElementNotInteractableException",
     "evalue": "Message: element not interactable\n  (Session info: chrome=127.0.6533.100)\nStacktrace:\n\tGetHandleVerifier [0x00007FF686089632+30946]\n\t(No symbol) [0x00007FF68603E3C9]\n\t(No symbol) [0x00007FF685F36E09]\n\t(No symbol) [0x00007FF685F89712]\n\t(No symbol) [0x00007FF685F7C271]\n\t(No symbol) [0x00007FF685FACA6A]\n\t(No symbol) [0x00007FF685F7BBB6]\n\t(No symbol) [0x00007FF685FACC80]\n\t(No symbol) [0x00007FF685FCB041]\n\t(No symbol) [0x00007FF685FAC813]\n\t(No symbol) [0x00007FF685F7A6E5]\n\t(No symbol) [0x00007FF685F7B021]\n\tGetHandleVerifier [0x00007FF6861BF83D+1301229]\n\tGetHandleVerifier [0x00007FF6861CBDB7+1351783]\n\tGetHandleVerifier [0x00007FF6861C2A03+1313971]\n\tGetHandleVerifier [0x00007FF6860BDD06+245686]\n\t(No symbol) [0x00007FF68604758F]\n\t(No symbol) [0x00007FF686043804]\n\t(No symbol) [0x00007FF686043992]\n\t(No symbol) [0x00007FF68603A3EF]\n\tBaseThreadInitThunk [0x00007FF9107E7374+20]\n\tRtlUserThreadStart [0x00007FF9109BCC91+33]\n",
     "output_type": "error",
     "traceback": [
      "\u001b[1;31m---------------------------------------------------------------------------\u001b[0m",
      "\u001b[1;31mElementNotInteractableException\u001b[0m           Traceback (most recent call last)",
      "Cell \u001b[1;32mIn[32], line 3\u001b[0m\n\u001b[0;32m      1\u001b[0m \u001b[38;5;66;03m# 스타벅스) '서울'-' 전체' 클릭\u001b[39;00m\n\u001b[0;32m      2\u001b[0m starbucks_seoul_all \u001b[38;5;241m=\u001b[39m \u001b[38;5;124m'\u001b[39m\u001b[38;5;124m#mCSB_2_container > ul > li:nth-child(1) > a\u001b[39m\u001b[38;5;124m'\u001b[39m\n\u001b[1;32m----> 3\u001b[0m \u001b[43mWebDriverWait\u001b[49m\u001b[43m(\u001b[49m\u001b[43mdriver\u001b[49m\u001b[43m,\u001b[49m\u001b[43m \u001b[49m\u001b[38;5;241;43m5\u001b[39;49m\u001b[43m)\u001b[49m\u001b[38;5;241;43m.\u001b[39;49m\u001b[43muntil\u001b[49m\u001b[43m(\u001b[49m\u001b[43mEC\u001b[49m\u001b[38;5;241;43m.\u001b[39;49m\u001b[43mpresence_of_element_located\u001b[49m\u001b[43m(\u001b[49m\u001b[43m(\u001b[49m\u001b[43mBy\u001b[49m\u001b[38;5;241;43m.\u001b[39;49m\u001b[43mCSS_SELECTOR\u001b[49m\u001b[43m,\u001b[49m\u001b[43m \u001b[49m\u001b[43mstarbucks_seoul_selector\u001b[49m\u001b[43m)\u001b[49m\u001b[43m)\u001b[49m\u001b[43m)\u001b[49m\u001b[38;5;241;43m.\u001b[39;49m\u001b[43mclick\u001b[49m\u001b[43m(\u001b[49m\u001b[43m)\u001b[49m\n",
      "File \u001b[1;32mC:\\Python312\\Lib\\site-packages\\selenium\\webdriver\\remote\\webelement.py:94\u001b[0m, in \u001b[0;36mWebElement.click\u001b[1;34m(self)\u001b[0m\n\u001b[0;32m     92\u001b[0m \u001b[38;5;28;01mdef\u001b[39;00m \u001b[38;5;21mclick\u001b[39m(\u001b[38;5;28mself\u001b[39m) \u001b[38;5;241m-\u001b[39m\u001b[38;5;241m>\u001b[39m \u001b[38;5;28;01mNone\u001b[39;00m:\n\u001b[0;32m     93\u001b[0m \u001b[38;5;250m    \u001b[39m\u001b[38;5;124;03m\"\"\"Clicks the element.\"\"\"\u001b[39;00m\n\u001b[1;32m---> 94\u001b[0m     \u001b[38;5;28;43mself\u001b[39;49m\u001b[38;5;241;43m.\u001b[39;49m\u001b[43m_execute\u001b[49m\u001b[43m(\u001b[49m\u001b[43mCommand\u001b[49m\u001b[38;5;241;43m.\u001b[39;49m\u001b[43mCLICK_ELEMENT\u001b[49m\u001b[43m)\u001b[49m\n",
      "File \u001b[1;32mC:\\Python312\\Lib\\site-packages\\selenium\\webdriver\\remote\\webelement.py:395\u001b[0m, in \u001b[0;36mWebElement._execute\u001b[1;34m(self, command, params)\u001b[0m\n\u001b[0;32m    393\u001b[0m     params \u001b[38;5;241m=\u001b[39m {}\n\u001b[0;32m    394\u001b[0m params[\u001b[38;5;124m\"\u001b[39m\u001b[38;5;124mid\u001b[39m\u001b[38;5;124m\"\u001b[39m] \u001b[38;5;241m=\u001b[39m \u001b[38;5;28mself\u001b[39m\u001b[38;5;241m.\u001b[39m_id\n\u001b[1;32m--> 395\u001b[0m \u001b[38;5;28;01mreturn\u001b[39;00m \u001b[38;5;28;43mself\u001b[39;49m\u001b[38;5;241;43m.\u001b[39;49m\u001b[43m_parent\u001b[49m\u001b[38;5;241;43m.\u001b[39;49m\u001b[43mexecute\u001b[49m\u001b[43m(\u001b[49m\u001b[43mcommand\u001b[49m\u001b[43m,\u001b[49m\u001b[43m \u001b[49m\u001b[43mparams\u001b[49m\u001b[43m)\u001b[49m\n",
      "File \u001b[1;32mC:\\Python312\\Lib\\site-packages\\selenium\\webdriver\\remote\\webdriver.py:354\u001b[0m, in \u001b[0;36mWebDriver.execute\u001b[1;34m(self, driver_command, params)\u001b[0m\n\u001b[0;32m    352\u001b[0m response \u001b[38;5;241m=\u001b[39m \u001b[38;5;28mself\u001b[39m\u001b[38;5;241m.\u001b[39mcommand_executor\u001b[38;5;241m.\u001b[39mexecute(driver_command, params)\n\u001b[0;32m    353\u001b[0m \u001b[38;5;28;01mif\u001b[39;00m response:\n\u001b[1;32m--> 354\u001b[0m     \u001b[38;5;28;43mself\u001b[39;49m\u001b[38;5;241;43m.\u001b[39;49m\u001b[43merror_handler\u001b[49m\u001b[38;5;241;43m.\u001b[39;49m\u001b[43mcheck_response\u001b[49m\u001b[43m(\u001b[49m\u001b[43mresponse\u001b[49m\u001b[43m)\u001b[49m\n\u001b[0;32m    355\u001b[0m     response[\u001b[38;5;124m\"\u001b[39m\u001b[38;5;124mvalue\u001b[39m\u001b[38;5;124m\"\u001b[39m] \u001b[38;5;241m=\u001b[39m \u001b[38;5;28mself\u001b[39m\u001b[38;5;241m.\u001b[39m_unwrap_value(response\u001b[38;5;241m.\u001b[39mget(\u001b[38;5;124m\"\u001b[39m\u001b[38;5;124mvalue\u001b[39m\u001b[38;5;124m\"\u001b[39m, \u001b[38;5;28;01mNone\u001b[39;00m))\n\u001b[0;32m    356\u001b[0m     \u001b[38;5;28;01mreturn\u001b[39;00m response\n",
      "File \u001b[1;32mC:\\Python312\\Lib\\site-packages\\selenium\\webdriver\\remote\\errorhandler.py:229\u001b[0m, in \u001b[0;36mErrorHandler.check_response\u001b[1;34m(self, response)\u001b[0m\n\u001b[0;32m    227\u001b[0m         alert_text \u001b[38;5;241m=\u001b[39m value[\u001b[38;5;124m\"\u001b[39m\u001b[38;5;124malert\u001b[39m\u001b[38;5;124m\"\u001b[39m]\u001b[38;5;241m.\u001b[39mget(\u001b[38;5;124m\"\u001b[39m\u001b[38;5;124mtext\u001b[39m\u001b[38;5;124m\"\u001b[39m)\n\u001b[0;32m    228\u001b[0m     \u001b[38;5;28;01mraise\u001b[39;00m exception_class(message, screen, stacktrace, alert_text)  \u001b[38;5;66;03m# type: ignore[call-arg]  # mypy is not smart enough here\u001b[39;00m\n\u001b[1;32m--> 229\u001b[0m \u001b[38;5;28;01mraise\u001b[39;00m exception_class(message, screen, stacktrace)\n",
      "\u001b[1;31mElementNotInteractableException\u001b[0m: Message: element not interactable\n  (Session info: chrome=127.0.6533.100)\nStacktrace:\n\tGetHandleVerifier [0x00007FF686089632+30946]\n\t(No symbol) [0x00007FF68603E3C9]\n\t(No symbol) [0x00007FF685F36E09]\n\t(No symbol) [0x00007FF685F89712]\n\t(No symbol) [0x00007FF685F7C271]\n\t(No symbol) [0x00007FF685FACA6A]\n\t(No symbol) [0x00007FF685F7BBB6]\n\t(No symbol) [0x00007FF685FACC80]\n\t(No symbol) [0x00007FF685FCB041]\n\t(No symbol) [0x00007FF685FAC813]\n\t(No symbol) [0x00007FF685F7A6E5]\n\t(No symbol) [0x00007FF685F7B021]\n\tGetHandleVerifier [0x00007FF6861BF83D+1301229]\n\tGetHandleVerifier [0x00007FF6861CBDB7+1351783]\n\tGetHandleVerifier [0x00007FF6861C2A03+1313971]\n\tGetHandleVerifier [0x00007FF6860BDD06+245686]\n\t(No symbol) [0x00007FF68604758F]\n\t(No symbol) [0x00007FF686043804]\n\t(No symbol) [0x00007FF686043992]\n\t(No symbol) [0x00007FF68603A3EF]\n\tBaseThreadInitThunk [0x00007FF9107E7374+20]\n\tRtlUserThreadStart [0x00007FF9109BCC91+33]\n"
     ]
    }
   ],
   "source": [
    "# 스타벅스) '서울'-' 전체' 클릭\n",
    "starbucks_seoul_all = '#mCSB_2_container > ul > li:nth-child(1) > a'\n",
    "WebDriverWait(driver, 5).until(EC.presence_of_element_located((By.CSS_SELECTOR, starbucks_seoul_selector))).click()  # 클릭 텀을 주기"
   ]
  },
  {
   "cell_type": "code",
   "execution_count": null,
   "id": "3975cc83-4ce9-40a7-b264-1fd5824240cf",
   "metadata": {},
   "outputs": [],
   "source": [
    "# 스타벅스 html 코드를 파싱하여 html 파일에 기록"
   ]
  },
  {
   "cell_type": "code",
   "execution_count": null,
   "id": "cba42fd3-193a-4688-8ec9-6573e4ae6360",
   "metadata": {},
   "outputs": [],
   "source": []
  },
  {
   "cell_type": "code",
   "execution_count": null,
   "id": "9dd451ea-1536-4e16-a922-8c01986d6a3b",
   "metadata": {},
   "outputs": [],
   "source": []
  },
  {
   "cell_type": "code",
   "execution_count": null,
   "id": "a65373df-5f91-4910-a5d3-70f3c5745fd8",
   "metadata": {},
   "outputs": [],
   "source": []
  },
  {
   "cell_type": "code",
   "execution_count": null,
   "id": "c2ae7b29-1eb4-4f85-9cbb-b800d1b604d8",
   "metadata": {},
   "outputs": [],
   "source": []
  }
 ],
 "metadata": {
  "kernelspec": {
   "display_name": "Python 3 (ipykernel)",
   "language": "python",
   "name": "python3"
  },
  "language_info": {
   "codemirror_mode": {
    "name": "ipython",
    "version": 3
   },
   "file_extension": ".py",
   "mimetype": "text/x-python",
   "name": "python",
   "nbconvert_exporter": "python",
   "pygments_lexer": "ipython3",
   "version": "3.12.4"
  }
 },
 "nbformat": 4,
 "nbformat_minor": 5
}
